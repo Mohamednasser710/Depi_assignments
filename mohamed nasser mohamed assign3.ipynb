{
 "cells": [
  {
   "cell_type": "code",
   "execution_count": 51,
   "id": "08a2f432-aed9-4b0c-b3b3-0030abfb6916",
   "metadata": {},
   "outputs": [
    {
     "name": "stdout",
     "output_type": "stream",
     "text": [
      "3\n"
     ]
    }
   ],
   "source": [
    "#question1\n",
    "def count_vowels(string):\n",
    "    vowels= \"aieou\"\n",
    "    string=string.lower()\n",
    "    i=0\n",
    "    for char in string:\n",
    "        if char in vowels:\n",
    "            i+=1\n",
    "    return i\n",
    "x=count_vowels(\"HeLLO WoRLD\")\n",
    "print(x)"
   ]
  },
  {
   "cell_type": "code",
   "execution_count": 29,
   "id": "0c5793b7-07c9-4003-98ee-67cdfcc4bc40",
   "metadata": {},
   "outputs": [
    {
     "name": "stdout",
     "output_type": "stream",
     "text": [
      "Maximam value = 900\n",
      "none\n"
     ]
    }
   ],
   "source": [
    "#question2\n",
    "def find_max(nums):\n",
    "    if nums == []:\n",
    "        print(\"none\")\n",
    "    else:\n",
    "     max_value= nums[0]\n",
    "     for num in nums:\n",
    "        if num > max_value:\n",
    "           max_value = num\n",
    "     return max_value\n",
    "x=[1,2,4,5,5,9,3,7,99,1,0,75,100,77,800,50,900]\n",
    "y=find_max(x)\n",
    "print(f\"Maximam value = {y}\")\n",
    "a=[]\n",
    "z= find_max(a)"
   ]
  }
 ],
 "metadata": {
  "kernelspec": {
   "display_name": "Python 3 (ipykernel)",
   "language": "python",
   "name": "python3"
  },
  "language_info": {
   "codemirror_mode": {
    "name": "ipython",
    "version": 3
   },
   "file_extension": ".py",
   "mimetype": "text/x-python",
   "name": "python",
   "nbconvert_exporter": "python",
   "pygments_lexer": "ipython3",
   "version": "3.12.7"
  }
 },
 "nbformat": 4,
 "nbformat_minor": 5
}
