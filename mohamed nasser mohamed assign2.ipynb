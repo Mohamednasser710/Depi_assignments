{
 "cells": [
  {
   "cell_type": "code",
   "execution_count": 2,
   "id": "cbf0d1f0-3864-4d6a-b234-0db4077ce7e0",
   "metadata": {},
   "outputs": [
    {
     "name": "stdout",
     "output_type": "stream",
     "text": [
      "[0, 1, 2, 3, 4, 5]\n"
     ]
    }
   ],
   "source": [
    "##Question1\n",
    "def merge_and_sort(list1, list2):\n",
    "    merged_list = list1 + list2\n",
    "    n = len(merged_list)\n",
    "    for i in range(n):\n",
    "        for j in range(0, n - i - 1):\n",
    "            if merged_list[j] > merged_list[j + 1]:\n",
    "                merged_list[j], merged_list[j + 1] = merged_list[j + 1], merged_list[j]\n",
    "    \n",
    "    return merged_list\n",
    "list1 = [3, 0, 1]\n",
    "list2 = [4, 2, 5]\n",
    "result = merge_and_sort(list1, list2)\n",
    "print(result)"
   ]
  },
  {
   "cell_type": "code",
   "execution_count": 4,
   "id": "cbd2029b-9e78-492d-ba9d-a4e6f919211a",
   "metadata": {},
   "outputs": [
    {
     "name": "stdout",
     "output_type": "stream",
     "text": [
      "aaaabbbbcccc\n"
     ]
    }
   ],
   "source": [
    "##question 2\n",
    "def repeat(char, n):\n",
    "    return ''.join([c * n for c in char])\n",
    "\n",
    "string = \"abc\"\n",
    "n = 4\n",
    "string_repeated = repeat(string, n)\n",
    "print(string_repeated)"
   ]
  },
  {
   "cell_type": "code",
   "execution_count": null,
   "id": "309345ce-5e7a-4912-a601-467d488e9af9",
   "metadata": {},
   "outputs": [],
   "source": []
  }
 ],
 "metadata": {
  "kernelspec": {
   "display_name": "Python 3 (ipykernel)",
   "language": "python",
   "name": "python3"
  },
  "language_info": {
   "codemirror_mode": {
    "name": "ipython",
    "version": 3
   },
   "file_extension": ".py",
   "mimetype": "text/x-python",
   "name": "python",
   "nbconvert_exporter": "python",
   "pygments_lexer": "ipython3",
   "version": "3.12.7"
  }
 },
 "nbformat": 4,
 "nbformat_minor": 5
}
